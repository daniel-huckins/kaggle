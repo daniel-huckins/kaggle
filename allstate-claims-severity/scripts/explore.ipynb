{
 "cells": [
  {
   "cell_type": "code",
   "execution_count": 1,
   "metadata": {
    "collapsed": true
   },
   "outputs": [],
   "source": [
    "import pandas as pd\n",
    "from altair import Chart"
   ]
  },
  {
   "cell_type": "code",
   "execution_count": 2,
   "metadata": {
    "collapsed": true
   },
   "outputs": [],
   "source": [
    "train = pd.read_csv('../input/train.csv')\n",
    "cat_cols = [col for col in train.columns if col[0:3] == 'cat']\n",
    "cats = train[cat_cols]"
   ]
  },
  {
   "cell_type": "code",
   "execution_count": 6,
   "metadata": {
    "collapsed": false
   },
   "outputs": [
    {
     "data": {
      "text/plain": [
       "1139"
      ]
     },
     "execution_count": 6,
     "metadata": {},
     "output_type": "execute_result"
    }
   ],
   "source": [
    "counts = {}\n",
    "for col in cat_cols:\n",
    "    for item in cats[col].unique():\n",
    "        key = (col, item)\n",
    "        if key not in counts:\n",
    "            counts[key] = 0\n",
    "        counts[key] += 1\n",
    "len(counts)"
   ]
  },
  {
   "cell_type": "markdown",
   "metadata": {},
   "source": [
    "train counts = 1139 different combinations"
   ]
  },
  {
   "cell_type": "code",
   "execution_count": 7,
   "metadata": {
    "collapsed": true
   },
   "outputs": [],
   "source": [
    "test = pd.read_csv('../input/test.csv')\n",
    "test_cats = test[cat_cols]"
   ]
  },
  {
   "cell_type": "code",
   "execution_count": 11,
   "metadata": {
    "collapsed": false
   },
   "outputs": [],
   "source": [
    "test_counts = {}\n",
    "for col in cat_cols:\n",
    "    for item in test_cats[col].unique():\n",
    "        key = (col, item)\n",
    "        if key not in counts:\n",
    "            test_counts.setdefault(key, 0)\n",
    "            test_counts[key] += 1\n",
    "            "
   ]
  },
  {
   "cell_type": "code",
   "execution_count": 12,
   "metadata": {
    "collapsed": false
   },
   "outputs": [
    {
     "data": {
      "text/plain": [
       "{('cat103', 'M'): 1,\n",
       " ('cat106', 'Q'): 1,\n",
       " ('cat109', 'AD'): 1,\n",
       " ('cat110', 'BH'): 1,\n",
       " ('cat110', 'CA'): 1,\n",
       " ('cat110', 'EN'): 1,\n",
       " ('cat111', 'L'): 1,\n",
       " ('cat113', 'AA'): 1,\n",
       " ('cat113', 'R'): 1,\n",
       " ('cat116', 'A'): 1,\n",
       " ('cat116', 'AI'): 1,\n",
       " ('cat116', 'AQ'): 1,\n",
       " ('cat116', 'BE'): 1,\n",
       " ('cat116', 'BH'): 1,\n",
       " ('cat116', 'BJ'): 1,\n",
       " ('cat116', 'BN'): 1,\n",
       " ('cat116', 'BR'): 1,\n",
       " ('cat116', 'DB'): 1,\n",
       " ('cat116', 'EM'): 1,\n",
       " ('cat116', 'ER'): 1,\n",
       " ('cat116', 'ET'): 1,\n",
       " ('cat116', 'EX'): 1,\n",
       " ('cat116', 'FY'): 1,\n",
       " ('cat116', 'HS'): 1,\n",
       " ('cat116', 'IS'): 1,\n",
       " ('cat116', 'IW'): 1,\n",
       " ('cat116', 'JS'): 1,\n",
       " ('cat116', 'KO'): 1,\n",
       " ('cat116', 'LP'): 1,\n",
       " ('cat116', 'LS'): 1,\n",
       " ('cat116', 'MX'): 1,\n",
       " ('cat116', 'N'): 1,\n",
       " ('cat89', 'F'): 1,\n",
       " ('cat92', 'E'): 1,\n",
       " ('cat92', 'G'): 1,\n",
       " ('cat96', 'H'): 1,\n",
       " ('cat99', 'U'): 1}"
      ]
     },
     "execution_count": 12,
     "metadata": {},
     "output_type": "execute_result"
    }
   ],
   "source": [
    "test_counts"
   ]
  }
 ],
 "metadata": {
  "kernelspec": {
   "display_name": "Python 3",
   "language": "python",
   "name": "python3"
  },
  "language_info": {
   "codemirror_mode": {
    "name": "ipython",
    "version": 3
   },
   "file_extension": ".py",
   "mimetype": "text/x-python",
   "name": "python",
   "nbconvert_exporter": "python",
   "pygments_lexer": "ipython3",
   "version": "3.5.1"
  }
 },
 "nbformat": 4,
 "nbformat_minor": 1
}
